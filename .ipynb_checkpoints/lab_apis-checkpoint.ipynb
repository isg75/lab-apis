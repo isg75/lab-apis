{
 "cells": [
  {
   "cell_type": "markdown",
   "id": "652795cf-c390-4707-a9fe-35fb62a6f29e",
   "metadata": {
    "id": "652795cf-c390-4707-a9fe-35fb62a6f29e"
   },
   "source": [
    "# Lab | APIS"
   ]
  },
  {
   "cell_type": "markdown",
   "id": "f096fb7e-1955-4f9d-acc9-07fd8dda9846",
   "metadata": {
    "id": "f096fb7e-1955-4f9d-acc9-07fd8dda9846"
   },
   "source": [
    "In this lab, you will collect historical data about the Nobel Prize winners using [this free and non-authenticated API](https://www.nobelprize.org/organization/developer-zone-2/). According to the documentation available [here](https://app.swaggerhub.com/apis/NobelMedia/NobelMasterData/2.1#/default/get_nobelPrizes). The base url is: \"http://api.nobelprize.org/2.1/\" followed by a string to specify what kind of information do you want to retrieve. The acceptable options are:\n",
    "\n",
    "* nobelPrices\n",
    "* nobelPrice/category/year\n",
    "* laureates\n",
    "* laureate/laureateID"
   ]
  },
  {
   "cell_type": "markdown",
   "id": "2179b225-2444-49c9-b3ec-6108e8ed41d2",
   "metadata": {
    "id": "2179b225-2444-49c9-b3ec-6108e8ed41d2"
   },
   "source": [
    "# Getting the information using requests"
   ]
  },
  {
   "cell_type": "markdown",
   "id": "e714cfbd-7178-48d5-879c-d4d23feea969",
   "metadata": {
    "id": "e714cfbd-7178-48d5-879c-d4d23feea969"
   },
   "source": [
    "Use the Python `requests`, and `json` libraries to obtain the information of ALL the Nobel Prizes. Make sure to verify that you get the proper status code (200)."
   ]
  },
  {
   "cell_type": "markdown",
   "id": "0e58cf8c-16ed-4257-a7c8-7a534d79fefa",
   "metadata": {
    "id": "0e58cf8c-16ed-4257-a7c8-7a534d79fefa"
   },
   "source": [
    "The json outputs are simple plain text that need to be converted into the corresponding nested dictionary. Use the `.json()` method to cast the output into a Python dictionary."
   ]
  },
  {
   "cell_type": "markdown",
   "id": "7b6fa3a9-2730-45bd-a086-b9fd0b2c971e",
   "metadata": {
    "id": "7b6fa3a9-2730-45bd-a086-b9fd0b2c971e"
   },
   "source": [
    "Use the Pandas library to collect all the information into a Panda's DataFrame."
   ]
  },
  {
   "cell_type": "code",
   "execution_count": 7,
   "id": "f2823eb1-ab36-429f-b79c-76f25c3c3513",
   "metadata": {
    "colab": {
     "base_uri": "https://localhost:8080/",
     "height": 1000
    },
    "id": "f2823eb1-ab36-429f-b79c-76f25c3c3513",
    "outputId": "714cac69-8873-4ddc-8372-b720bca1babd"
   },
   "outputs": [
    {
     "name": "stdout",
     "output_type": "stream",
     "text": [
      "All good!\n",
      "==============\n",
      "\n",
      "\n",
      "  awardYear                                           category  \\\n",
      "0      1901   {'en': 'Chemistry', 'no': 'Kjemi', 'se': 'Kemi'}   \n",
      "1      1901  {'en': 'Literature', 'no': 'Litteratur', 'se':...   \n",
      "2      1901        {'en': 'Peace', 'no': 'Fred', 'se': 'Fred'}   \n",
      "3      1901   {'en': 'Physics', 'no': 'Fysikk', 'se': 'Fysik'}   \n",
      "4      1901  {'en': 'Physiology or Medicine', 'no': 'Fysiol...   \n",
      "\n",
      "                                    categoryFullName dateAwarded  prizeAmount  \\\n",
      "0  {'en': 'The Nobel Prize in Chemistry', 'no': '...  1901-11-12       150782   \n",
      "1  {'en': 'The Nobel Prize in Literature', 'no': ...  1901-11-14       150782   \n",
      "2  {'en': 'The Nobel Peace Prize', 'no': 'Nobels ...  1901-12-10       150782   \n",
      "3  {'en': 'The Nobel Prize in Physics', 'no': 'No...  1901-11-12       150782   \n",
      "4  {'en': 'The Nobel Prize in Physiology or Medic...  1901-10-30       150782   \n",
      "\n",
      "   prizeAmountAdjusted                                              links  \\\n",
      "0             10531894  [{'rel': 'nobelPrize', 'href': 'https://api.no...   \n",
      "1             10531894  [{'rel': 'nobelPrize', 'href': 'https://api.no...   \n",
      "2             10531894  [{'rel': 'nobelPrize', 'href': 'https://api.no...   \n",
      "3             10531894  [{'rel': 'nobelPrize', 'href': 'https://api.no...   \n",
      "4             10531894  [{'rel': 'nobelPrize', 'href': 'https://api.no...   \n",
      "\n",
      "                                           laureates topMotivation  \n",
      "0  [{'id': '160', 'knownName': {'en': 'Jacobus H....           NaN  \n",
      "1  [{'id': '569', 'knownName': {'en': 'Sully Prud...           NaN  \n",
      "2  [{'id': '462', 'knownName': {'en': 'Henry Duna...           NaN  \n",
      "3  [{'id': '1', 'knownName': {'en': 'Wilhelm Conr...           NaN  \n",
      "4  [{'id': '293', 'knownName': {'en': 'Emil von B...           NaN  \n"
     ]
    }
   ],
   "source": [
    "import requests\n",
    "import json\n",
    "import pandas as pd\n",
    "\n",
    "url = \"http://api.nobelprize.org/2.1/nobelPrizes?limit=100000\"\n",
    "\n",
    "response = requests.get(url)\n",
    "\n",
    "if response.status_code == 200:\n",
    "        print(\"All good!\")\n",
    "        print(\"==============\")\n",
    "        print(\"\\n\")\n",
    "        # Your code here\n",
    "    \n",
    "        data = response.json()\n",
    "        nobel_prizes = data['nobelPrizes']\n",
    "        df = pd.DataFrame(nobel_prizes)\n",
    "        print(df.head())\n",
    "else:\n",
    "    print(f\"Failed to retrieve data: {response.status_code}\")\n"
   ]
  },
  {
   "cell_type": "markdown",
   "id": "MUdAwBLFghOt",
   "metadata": {
    "id": "MUdAwBLFghOt"
   },
   "source": [
    "# Processing the output"
   ]
  },
  {
   "cell_type": "markdown",
   "id": "WnvYDOQ_gj3L",
   "metadata": {
    "id": "WnvYDOQ_gj3L"
   },
   "source": [
    "Process the Pandas DataFrame in order to have only the following columns:\n",
    "\n",
    "- category\n",
    "- dateAwarded (as DateTime in \"yyyy-mm-dd\" format)\n",
    "- prizeAmount\n",
    "- prizeAmountAdjusted\n",
    "- Number_of_laureates\n",
    "- motivation\n",
    "- laureate_ids (as a list)"
   ]
  },
  {
   "cell_type": "code",
   "execution_count": 10,
   "id": "94676ee6",
   "metadata": {
    "colab": {
     "base_uri": "https://localhost:8080/",
     "height": 293
    },
    "id": "94676ee6",
    "outputId": "6969dac6-4097-40a2-da2d-5a1e1b5e33f2"
   },
   "outputs": [
    {
     "name": "stdout",
     "output_type": "stream",
     "text": [
      "                 category dateAwarded  prizeAmount  prizeAmountAdjusted  \\\n",
      "0               Chemistry  1901-11-12       150782             10531894   \n",
      "1              Literature  1901-11-14       150782             10531894   \n",
      "2                   Peace  1901-12-10       150782             10531894   \n",
      "3                 Physics  1901-11-12       150782             10531894   \n",
      "4  Physiology or Medicine  1901-10-30       150782             10531894   \n",
      "\n",
      "   Number_of_laureates motivation laureate_ids  \n",
      "0                    1       None        [160]  \n",
      "1                    1       None        [569]  \n",
      "2                    2       None   [462, 463]  \n",
      "3                    1       None          [1]  \n",
      "4                    1       None        [293]  \n"
     ]
    }
   ],
   "source": [
    "url = \"http://api.nobelprize.org/2.1/nobelPrizes?limit=100000\"\n",
    "\n",
    "response = requests.get(url)\n",
    "\n",
    "if response.status_code == 200:\n",
    "    prizes_list = response.json()['nobelPrizes']\n",
    "    # Your code here\n",
    "\n",
    "    df = pd.DataFrame(prizes_list)\n",
    "    df['dateAwarded'] = pd.to_datetime(df['dateAwarded']).dt.strftime('%Y-%m-%d')\n",
    "    df_cleaned = pd.DataFrame({\n",
    "        'category': df['category'].apply(lambda x: x['en']),\n",
    "        'dateAwarded': df['dateAwarded'],\n",
    "        'prizeAmount': df['prizeAmount'],\n",
    "        'prizeAmountAdjusted': df['prizeAmountAdjusted'],\n",
    "        'Number_of_laureates': df['laureates'].apply(lambda x: len(x) if isinstance(x, list) else 0),\n",
    "        'motivation': df['topMotivation'].apply(lambda x: x['en'] if pd.notna(x) else None),\n",
    "        'laureate_ids': df['laureates'].apply(lambda x: [laureate['id'] for laureate in x] if isinstance(x, list) else [])\n",
    "    })\n",
    "    print(df_cleaned.head())\n",
    "else:\n",
    "    print(f\"Failed to retrieve data: {response.status_code}\")"
   ]
  },
  {
   "cell_type": "markdown",
   "id": "hA6b__V6iAPe",
   "metadata": {
    "id": "hA6b__V6iAPe"
   },
   "source": [
    "# Getting a Pandas DataFrame with the details of awarded authors/institutions"
   ]
  },
  {
   "cell_type": "markdown",
   "id": "QmRs0Jf_iM7G",
   "metadata": {
    "id": "QmRs0Jf_iM7G"
   },
   "source": [
    "If you dive deeper and use the API to retrieve the details of some laureate_ids, you will notice that not allways the Nobel Prize was awarded to individuals. In some cases, the awards were given to institutions.\n",
    "\n",
    "Get the unique ids from the previous datasets and prepare the following functions:\n",
    "\n",
    "- get_name(laureate) ( it should return the english name 'fullName' of the individual or 'orgName' of the institution )\n",
    "\n",
    "- get_gender(laureate) ( it should return the gender or 'Unknown' for individuals, and 'None' for institutions )\n",
    "\n",
    "- get_birthdate(laureate) ( it should return the birthdate when it's avaialble or 'Unknown' otherwise )\n",
    "\n",
    "- get_age(laureate) ( it should return the age of the awarded individual or 'Unknown' when it's not avaialble or for institutions )\n",
    "\n",
    "- get_city(laureate) ( it should return the english name of the city when it's available or 'Unknown' otherwise )\n",
    "\n",
    "- get_country(laureate) ( it should return the english name of the country when it's available or 'Unknown' otherwise )\n",
    "\n",
    "- get_continent(laureate) ( it should return the english name of the continent when it's available or 'Unknown' otherwise )\n",
    "\n",
    "- get_latitude(laureate) ( it should return the city's latitude when it's available or 'Unknown' otherwise )\n",
    "\n",
    "- get_longitude(laureate) ( it should return the city's longitude\n",
    " when it's available or 'Unknown' otherwise )\n",
    "\n",
    "Create the following dictionaries:\n",
    "\n",
    "```python\n",
    "laureates_dict = {\"ID\": [], \"Name\": [], \"Gender\": [], \\\n",
    "                  \"Birth_date\": [], \"Age\": [], \\\n",
    "                  \"City\": [], \"Country\": [], \"Continent\": [], \\\n",
    "                  \"Latitude\": [], \"Longitude\": []}                        \n",
    "\n",
    "functions_dict = {\"ID\": None, \"Name\": get_name, \"Gender\": get_gender, \\\n",
    "                  \"Birth_date\": get_birthdate, \"Age\": get_age, \\\n",
    "                  \"City\": get_city, \"Country\": get_country, \"Continent\": get_continent, \\\n",
    "                  \"Latitude\": get_latitude, \"Longitude\": get_longitude}\n",
    "```\n",
    "\n",
    "For each unique `laureate_id` of the previous DataFrame make an API call to get the details of the awarded individual/intitution and iterate of the previous dictionaries keys in order to add the corresponding information of each `laureate_id` in the empty lists of `laureates_dict`.\n",
    "\n",
    "Finally, create a Pandas DataFrame named `laureates_df` using the `laureates_dict`."
   ]
  },
  {
   "cell_type": "code",
   "execution_count": 13,
   "id": "3c286665-43f4-442b-8758-12115526a3b1",
   "metadata": {},
   "outputs": [
    {
     "name": "stdout",
     "output_type": "stream",
     "text": [
      "Column 'laureate_ids' does not exist in the DataFrame.\n",
      "Available columns are: Index(['awardYear', 'category', 'categoryFullName', 'dateAwarded',\n",
      "       'prizeAmount', 'prizeAmountAdjusted', 'links', 'laureates',\n",
      "       'topMotivation'],\n",
      "      dtype='object')\n"
     ]
    }
   ],
   "source": [
    "# Check if the column 'laureate_ids' exists\n",
    "if 'laureate_ids' not in df.columns:\n",
    "    print(\"Column 'laureate_ids' does not exist in the DataFrame.\")\n",
    "    print(\"Available columns are:\", df.columns)\n",
    "else:\n",
    "    # Proceed with extracting unique IDs if the column exists\n",
    "    ids = [int(item) for l in df['laureate_ids'].values for item in l]\n",
    "    unique_ids = set(ids)"
   ]
  },
  {
   "cell_type": "code",
   "execution_count": 14,
   "id": "e4d86b1a-27e8-4d5e-b68f-beb9e399dd13",
   "metadata": {},
   "outputs": [
    {
     "name": "stdout",
     "output_type": "stream",
     "text": [
      "Created the 'laureate_ids' column.\n"
     ]
    }
   ],
   "source": [
    "# New cell: Create 'laureate_ids' column if it doesn't exist\n",
    "if 'laureate_ids' not in df.columns:\n",
    "    # Apply the function only if 'laureates' contains a valid list, otherwise return an empty list\n",
    "    df['laureate_ids'] = df['laureates'].apply(lambda x: [l['id'] for l in x] if isinstance(x, list) else [])\n",
    "    print(\"Created the 'laureate_ids' column.\")\n",
    "\n"
   ]
  },
  {
   "cell_type": "code",
   "execution_count": 15,
   "id": "faa99071",
   "metadata": {
    "colab": {
     "base_uri": "https://localhost:8080/",
     "height": 441
    },
    "id": "faa99071",
    "outputId": "29d7a8de-f250-459a-e6b7-8fdaf821118f"
   },
   "outputs": [
    {
     "name": "stderr",
     "output_type": "stream",
     "text": [
      "100%|█████████████████████████████████████████| 992/992 [02:13<00:00,  7.44it/s]\n"
     ]
    },
    {
     "data": {
      "text/html": [
       "<div>\n",
       "<style scoped>\n",
       "    .dataframe tbody tr th:only-of-type {\n",
       "        vertical-align: middle;\n",
       "    }\n",
       "\n",
       "    .dataframe tbody tr th {\n",
       "        vertical-align: top;\n",
       "    }\n",
       "\n",
       "    .dataframe thead th {\n",
       "        text-align: right;\n",
       "    }\n",
       "</style>\n",
       "<table border=\"1\" class=\"dataframe\">\n",
       "  <thead>\n",
       "    <tr style=\"text-align: right;\">\n",
       "      <th></th>\n",
       "      <th>ID</th>\n",
       "      <th>Name</th>\n",
       "      <th>Gender</th>\n",
       "      <th>Birth_date</th>\n",
       "      <th>Age</th>\n",
       "      <th>City</th>\n",
       "      <th>Country</th>\n",
       "      <th>Continent</th>\n",
       "      <th>Latitude</th>\n",
       "      <th>Longitude</th>\n",
       "    </tr>\n",
       "  </thead>\n",
       "  <tbody>\n",
       "    <tr>\n",
       "      <th>0</th>\n",
       "      <td>1</td>\n",
       "      <td>Unknown</td>\n",
       "      <td>None</td>\n",
       "      <td>Unknown</td>\n",
       "      <td>Unknown</td>\n",
       "      <td>Unknown</td>\n",
       "      <td>Unknown</td>\n",
       "      <td>Unknown</td>\n",
       "      <td>Unknown</td>\n",
       "      <td>Unknown</td>\n",
       "    </tr>\n",
       "    <tr>\n",
       "      <th>1</th>\n",
       "      <td>2</td>\n",
       "      <td>Unknown</td>\n",
       "      <td>None</td>\n",
       "      <td>Unknown</td>\n",
       "      <td>Unknown</td>\n",
       "      <td>Unknown</td>\n",
       "      <td>Unknown</td>\n",
       "      <td>Unknown</td>\n",
       "      <td>Unknown</td>\n",
       "      <td>Unknown</td>\n",
       "    </tr>\n",
       "    <tr>\n",
       "      <th>2</th>\n",
       "      <td>3</td>\n",
       "      <td>Unknown</td>\n",
       "      <td>None</td>\n",
       "      <td>Unknown</td>\n",
       "      <td>Unknown</td>\n",
       "      <td>Unknown</td>\n",
       "      <td>Unknown</td>\n",
       "      <td>Unknown</td>\n",
       "      <td>Unknown</td>\n",
       "      <td>Unknown</td>\n",
       "    </tr>\n",
       "    <tr>\n",
       "      <th>3</th>\n",
       "      <td>4</td>\n",
       "      <td>Unknown</td>\n",
       "      <td>None</td>\n",
       "      <td>Unknown</td>\n",
       "      <td>Unknown</td>\n",
       "      <td>Unknown</td>\n",
       "      <td>Unknown</td>\n",
       "      <td>Unknown</td>\n",
       "      <td>Unknown</td>\n",
       "      <td>Unknown</td>\n",
       "    </tr>\n",
       "    <tr>\n",
       "      <th>4</th>\n",
       "      <td>5</td>\n",
       "      <td>Unknown</td>\n",
       "      <td>None</td>\n",
       "      <td>Unknown</td>\n",
       "      <td>Unknown</td>\n",
       "      <td>Unknown</td>\n",
       "      <td>Unknown</td>\n",
       "      <td>Unknown</td>\n",
       "      <td>Unknown</td>\n",
       "      <td>Unknown</td>\n",
       "    </tr>\n",
       "    <tr>\n",
       "      <th>...</th>\n",
       "      <td>...</td>\n",
       "      <td>...</td>\n",
       "      <td>...</td>\n",
       "      <td>...</td>\n",
       "      <td>...</td>\n",
       "      <td>...</td>\n",
       "      <td>...</td>\n",
       "      <td>...</td>\n",
       "      <td>...</td>\n",
       "      <td>...</td>\n",
       "    </tr>\n",
       "    <tr>\n",
       "      <th>987</th>\n",
       "      <td>1030</td>\n",
       "      <td>Unknown</td>\n",
       "      <td>None</td>\n",
       "      <td>Unknown</td>\n",
       "      <td>Unknown</td>\n",
       "      <td>Unknown</td>\n",
       "      <td>Unknown</td>\n",
       "      <td>Unknown</td>\n",
       "      <td>Unknown</td>\n",
       "      <td>Unknown</td>\n",
       "    </tr>\n",
       "    <tr>\n",
       "      <th>988</th>\n",
       "      <td>1031</td>\n",
       "      <td>Unknown</td>\n",
       "      <td>None</td>\n",
       "      <td>Unknown</td>\n",
       "      <td>Unknown</td>\n",
       "      <td>Unknown</td>\n",
       "      <td>Unknown</td>\n",
       "      <td>Unknown</td>\n",
       "      <td>Unknown</td>\n",
       "      <td>Unknown</td>\n",
       "    </tr>\n",
       "    <tr>\n",
       "      <th>989</th>\n",
       "      <td>1032</td>\n",
       "      <td>Unknown</td>\n",
       "      <td>None</td>\n",
       "      <td>Unknown</td>\n",
       "      <td>Unknown</td>\n",
       "      <td>Unknown</td>\n",
       "      <td>Unknown</td>\n",
       "      <td>Unknown</td>\n",
       "      <td>Unknown</td>\n",
       "      <td>Unknown</td>\n",
       "    </tr>\n",
       "    <tr>\n",
       "      <th>990</th>\n",
       "      <td>1033</td>\n",
       "      <td>Unknown</td>\n",
       "      <td>None</td>\n",
       "      <td>Unknown</td>\n",
       "      <td>Unknown</td>\n",
       "      <td>Unknown</td>\n",
       "      <td>Unknown</td>\n",
       "      <td>Unknown</td>\n",
       "      <td>Unknown</td>\n",
       "      <td>Unknown</td>\n",
       "    </tr>\n",
       "    <tr>\n",
       "      <th>991</th>\n",
       "      <td>1034</td>\n",
       "      <td>Unknown</td>\n",
       "      <td>None</td>\n",
       "      <td>Unknown</td>\n",
       "      <td>Unknown</td>\n",
       "      <td>Unknown</td>\n",
       "      <td>Unknown</td>\n",
       "      <td>Unknown</td>\n",
       "      <td>Unknown</td>\n",
       "      <td>Unknown</td>\n",
       "    </tr>\n",
       "  </tbody>\n",
       "</table>\n",
       "<p>992 rows × 10 columns</p>\n",
       "</div>"
      ],
      "text/plain": [
       "       ID     Name Gender Birth_date      Age     City  Country Continent  \\\n",
       "0       1  Unknown   None    Unknown  Unknown  Unknown  Unknown   Unknown   \n",
       "1       2  Unknown   None    Unknown  Unknown  Unknown  Unknown   Unknown   \n",
       "2       3  Unknown   None    Unknown  Unknown  Unknown  Unknown   Unknown   \n",
       "3       4  Unknown   None    Unknown  Unknown  Unknown  Unknown   Unknown   \n",
       "4       5  Unknown   None    Unknown  Unknown  Unknown  Unknown   Unknown   \n",
       "..    ...      ...    ...        ...      ...      ...      ...       ...   \n",
       "987  1030  Unknown   None    Unknown  Unknown  Unknown  Unknown   Unknown   \n",
       "988  1031  Unknown   None    Unknown  Unknown  Unknown  Unknown   Unknown   \n",
       "989  1032  Unknown   None    Unknown  Unknown  Unknown  Unknown   Unknown   \n",
       "990  1033  Unknown   None    Unknown  Unknown  Unknown  Unknown   Unknown   \n",
       "991  1034  Unknown   None    Unknown  Unknown  Unknown  Unknown   Unknown   \n",
       "\n",
       "    Latitude Longitude  \n",
       "0    Unknown   Unknown  \n",
       "1    Unknown   Unknown  \n",
       "2    Unknown   Unknown  \n",
       "3    Unknown   Unknown  \n",
       "4    Unknown   Unknown  \n",
       "..       ...       ...  \n",
       "987  Unknown   Unknown  \n",
       "988  Unknown   Unknown  \n",
       "989  Unknown   Unknown  \n",
       "990  Unknown   Unknown  \n",
       "991  Unknown   Unknown  \n",
       "\n",
       "[992 rows x 10 columns]"
      ]
     },
     "execution_count": 15,
     "metadata": {},
     "output_type": "execute_result"
    }
   ],
   "source": [
    "import time\n",
    "from tqdm import tqdm\n",
    "\n",
    "\n",
    "ids = [int(item) for l in df['laureate_ids'].values for item in l]\n",
    "unique_ids = set(ids)\n",
    "\n",
    "\n",
    "\n",
    "def get_name(laureate):\n",
    "    if 'fullName' in laureate:\n",
    "        return laureate['fullName']['en']\n",
    "    elif 'orgName' in laureate:\n",
    "        return laureate['orgName']\n",
    "    return \"Unknown\"\n",
    "\n",
    "def get_gender(laureate):\n",
    "    if 'gender' in laureate:\n",
    "        return laureate['gender']\n",
    "    return 'None'\n",
    "\n",
    "def get_birthdate(laureate):\n",
    "    birth_date = \"Unknown\"\n",
    "    if 'birth' in laureate and 'date' in laureate['birth']:\n",
    "        birth_date = laureate['birth']['date']\n",
    "    return birth_date\n",
    "\n",
    "def get_age(laureate):\n",
    "    birth_date = \"Unknown\"\n",
    "    award_date = \"Unknown\"\n",
    "    if 'birth' in laureate and 'date' in laureate['birth']:\n",
    "        birth_date = datetime.strptime(laureate['birth']['date'], '%Y-%m-%d')\n",
    "    if 'awardYear' in laureate:\n",
    "        award_date = datetime.strptime(laureate['awardYear'], '%Y')\n",
    "        if isinstance(birth_date, datetime):\n",
    "            age = award_date.year - birth_date.year\n",
    "            return age\n",
    "    return 'Unknown'\n",
    "\n",
    "def get_city(laureate):\n",
    "    if 'birth' in laureate and 'place' in laureate['birth']:\n",
    "        return laureate['birth']['place'].get('city', 'Unknown')\n",
    "    return 'Unknown'\n",
    "\n",
    "def get_country(laureate):\n",
    "    if 'birth' in laureate and 'place' in laureate['birth']:\n",
    "        return laureate['birth']['place'].get('country', 'Unknown')\n",
    "    return 'Unknown'\n",
    "\n",
    "def get_continent(laureate):\n",
    "    if 'birth' in laureate and 'place' in laureate['birth']:\n",
    "        return laureate['birth']['place'].get('continent', 'Unknown')\n",
    "    return 'Unknown'\n",
    "\n",
    "def get_latitude(laureate):\n",
    "    if 'birth' in laureate and 'place' in laureate['birth']:\n",
    "        return laureate['birth']['place'].get('latitude', 'Unknown')\n",
    "    return 'Unknown'\n",
    "\n",
    "def get_longitude(laureate):\n",
    "    if 'birth' in laureate and 'place' in laureate['birth']:\n",
    "        return laureate['birth']['place'].get('longitude', 'Unknown')\n",
    "    return 'Unknown'\n",
    "\n",
    "\n",
    "laureates_dict = {\"ID\": [], \"Name\": [], \"Gender\": [], \\\n",
    "                  \"Birth_date\": [], \"Age\": [], \\\n",
    "                  \"City\": [], \"Country\": [], \"Continent\": [], \\\n",
    "                  \"Latitude\": [], \"Longitude\": []}\n",
    "\n",
    "functions_dict = {\"ID\": None, \"Name\": get_name, \"Gender\": get_gender, \\\n",
    "                  \"Birth_date\": get_birthdate, \"Age\": get_age, \\\n",
    "                  \"City\": get_city, \"Country\": get_country, \"Continent\": get_continent, \\\n",
    "                  \"Latitude\": get_latitude, \"Longitude\": get_longitude}\n",
    "\n",
    "for index, id in enumerate(tqdm(unique_ids)):\n",
    "\n",
    "    url = \"https://api.nobelprize.org/2/laureate/\" + str(id)\n",
    "    response = requests.get(url)\n",
    "\n",
    "    if response.status_code == 200:\n",
    "\n",
    "        laureate = response.json()\n",
    "        for key, func in functions_dict.items():\n",
    "            if key == \"ID\":\n",
    "                laureates_dict[key].append(id)\n",
    "            else:\n",
    "                laureates_dict[key].append(func(laureate))\n",
    "                \n",
    "laureates_df = pd.DataFrame(laureates_dict)\n",
    "\n",
    "laureates_df\n",
    "\n"
   ]
  },
  {
   "cell_type": "markdown",
   "id": "9EQ5bO0YpWjn",
   "metadata": {
    "id": "9EQ5bO0YpWjn"
   },
   "source": [
    "# Country ranking"
   ]
  },
  {
   "cell_type": "markdown",
   "id": "uCUEl_0gppZp",
   "metadata": {
    "id": "uCUEl_0gppZp"
   },
   "source": [
    "Get a ranking countries by the number of times that they had been awarded in any category."
   ]
  },
  {
   "cell_type": "code",
   "execution_count": 18,
   "id": "t_ZLS_y44HrO",
   "metadata": {
    "colab": {
     "base_uri": "https://localhost:8080/",
     "height": 455
    },
    "id": "t_ZLS_y44HrO",
    "outputId": "eca0f70b-45fa-47ac-e3e9-1de74a90da6e"
   },
   "outputs": [
    {
     "data": {
      "text/html": [
       "<div>\n",
       "<style scoped>\n",
       "    .dataframe tbody tr th:only-of-type {\n",
       "        vertical-align: middle;\n",
       "    }\n",
       "\n",
       "    .dataframe tbody tr th {\n",
       "        vertical-align: top;\n",
       "    }\n",
       "\n",
       "    .dataframe thead th {\n",
       "        text-align: right;\n",
       "    }\n",
       "</style>\n",
       "<table border=\"1\" class=\"dataframe\">\n",
       "  <thead>\n",
       "    <tr style=\"text-align: right;\">\n",
       "      <th></th>\n",
       "      <th>Country</th>\n",
       "      <th>Number of Prizes</th>\n",
       "    </tr>\n",
       "  </thead>\n",
       "  <tbody>\n",
       "    <tr>\n",
       "      <th>0</th>\n",
       "      <td>Unknown</td>\n",
       "      <td>992</td>\n",
       "    </tr>\n",
       "  </tbody>\n",
       "</table>\n",
       "</div>"
      ],
      "text/plain": [
       "   Country  Number of Prizes\n",
       "0  Unknown               992"
      ]
     },
     "execution_count": 18,
     "metadata": {},
     "output_type": "execute_result"
    }
   ],
   "source": [
    "# Your code here\n",
    "\n",
    "country_count = laureates_df['Country'].value_counts()\n",
    "\n",
    "country_ranking = pd.DataFrame({\n",
    "    'Country': country_count.index,\n",
    "    'Number of Prizes': country_count.values\n",
    "})\n",
    "\n",
    "country_ranking = country_ranking.sort_values(by='Number of Prizes', ascending=False)\n",
    "\n",
    "country_ranking\n"
   ]
  },
  {
   "cell_type": "code",
   "execution_count": null,
   "id": "3fd67404-26ae-4504-b3cc-190dcf8445ae",
   "metadata": {},
   "outputs": [],
   "source": []
  }
 ],
 "metadata": {
  "colab": {
   "provenance": []
  },
  "kernelspec": {
   "display_name": "Python 3 (ipykernel)",
   "language": "python",
   "name": "python3"
  },
  "language_info": {
   "codemirror_mode": {
    "name": "ipython",
    "version": 3
   },
   "file_extension": ".py",
   "mimetype": "text/x-python",
   "name": "python",
   "nbconvert_exporter": "python",
   "pygments_lexer": "ipython3",
   "version": "3.12.4"
  }
 },
 "nbformat": 4,
 "nbformat_minor": 5
}
