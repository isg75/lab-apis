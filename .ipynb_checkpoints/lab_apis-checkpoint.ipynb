{
 "cells": [
  {
   "cell_type": "markdown",
   "id": "652795cf-c390-4707-a9fe-35fb62a6f29e",
   "metadata": {
    "id": "652795cf-c390-4707-a9fe-35fb62a6f29e"
   },
   "source": [
    "# Lab | APIS"
   ]
  },
  {
   "cell_type": "markdown",
   "id": "f096fb7e-1955-4f9d-acc9-07fd8dda9846",
   "metadata": {
    "id": "f096fb7e-1955-4f9d-acc9-07fd8dda9846"
   },
   "source": [
    "In this lab, you will collect historical data about the Nobel Prize winners using [this free and non-authenticated API](https://www.nobelprize.org/organization/developer-zone-2/). According to the documentation available [here](https://app.swaggerhub.com/apis/NobelMedia/NobelMasterData/2.1#/default/get_nobelPrizes). The base url is: \"http://api.nobelprize.org/2.1/\" followed by a string to specify what kind of information do you want to retrieve. The acceptable options are:\n",
    "\n",
    "* nobelPrices\n",
    "* nobelPrice/category/year\n",
    "* laureates\n",
    "* laureate/laureateID"
   ]
  },
  {
   "cell_type": "markdown",
   "id": "2179b225-2444-49c9-b3ec-6108e8ed41d2",
   "metadata": {
    "id": "2179b225-2444-49c9-b3ec-6108e8ed41d2"
   },
   "source": [
    "# Getting the information using requests"
   ]
  },
  {
   "cell_type": "markdown",
   "id": "e714cfbd-7178-48d5-879c-d4d23feea969",
   "metadata": {
    "id": "e714cfbd-7178-48d5-879c-d4d23feea969"
   },
   "source": [
    "Use the Python `requests`, and `json` libraries to obtain the information of ALL the Nobel Prizes. Make sure to verify that you get the proper status code (200)."
   ]
  },
  {
   "cell_type": "markdown",
   "id": "0e58cf8c-16ed-4257-a7c8-7a534d79fefa",
   "metadata": {
    "id": "0e58cf8c-16ed-4257-a7c8-7a534d79fefa"
   },
   "source": [
    "The json outputs are simple plain text that need to be converted into the corresponding nested dictionary. Use the `.json()` method to cast the output into a Python dictionary."
   ]
  },
  {
   "cell_type": "markdown",
   "id": "7b6fa3a9-2730-45bd-a086-b9fd0b2c971e",
   "metadata": {
    "id": "7b6fa3a9-2730-45bd-a086-b9fd0b2c971e"
   },
   "source": [
    "Use the Pandas library to collect all the information into a Panda's DataFrame."
   ]
  },
  {
   "cell_type": "code",
   "execution_count": 4,
   "id": "f2823eb1-ab36-429f-b79c-76f25c3c3513",
   "metadata": {
    "colab": {
     "base_uri": "https://localhost:8080/",
     "height": 1000
    },
    "id": "f2823eb1-ab36-429f-b79c-76f25c3c3513",
    "outputId": "714cac69-8873-4ddc-8372-b720bca1babd"
   },
   "outputs": [
    {
     "name": "stdout",
     "output_type": "stream",
     "text": [
      "All good!\n",
      "==============\n",
      "\n",
      "\n",
      "[{'awardYear': '1901', 'category': {'en': 'Chemistry', 'no': 'Kjemi', 'se': 'Kemi'}, 'categoryFullName': {'en': 'The Nobel Prize in Chemistry', 'no': 'Nobelprisen i kjemi', 'se': 'Nobelpriset i kemi'}, 'dateAwarded': '1901-11-12', 'prizeAmount': 150782, 'prizeAmountAdjusted': 10531894, 'links': [{'rel': 'nobelPrize', 'href': 'https://api.nobelprize.org/2/nobelPrize/che/1901', 'action': 'GET', 'types': 'application/json'}], 'laureates': [{'id': '160', 'knownName': {'en': \"Jacobus H. van 't Hoff\"}, 'fullName': {'en': \"Jacobus Henricus van 't Hoff\"}, 'portion': '1', 'sortOrder': '1', 'motivation': {'en': 'in recognition of the extraordinary services he has rendered by the discovery of the laws of chemical dynamics and osmotic pressure in solutions', 'se': 'såsom ett erkännande av den utomordentliga förtjänst han inlagt genom upptäckten av lagarna för den kemiska dynamiken och för det osmotiska trycket i lösningar'}, 'links': [{'rel': 'laureate', 'href': 'https://api.nobelprize.org/2/laureate/160', 'action': 'GET', 'types': 'application/json'}]}]}, {'awardYear': '1901', 'category': {'en': 'Literature', 'no': 'Litteratur', 'se': 'Litteratur'}, 'categoryFullName': {'en': 'The Nobel Prize in Literature', 'no': 'Nobelprisen i litteratur', 'se': 'Nobelpriset i litteratur'}, 'dateAwarded': '1901-11-14', 'prizeAmount': 150782, 'prizeAmountAdjusted': 10531894, 'links': [{'rel': 'nobelPrize', 'href': 'https://api.nobelprize.org/2/nobelPrize/lit/1901', 'action': 'GET', 'types': 'application/json'}], 'laureates': [{'id': '569', 'knownName': {'en': 'Sully Prudhomme'}, 'fullName': {'en': 'Sully Prudhomme'}, 'portion': '1', 'sortOrder': '1', 'motivation': {'en': 'in special recognition of his poetic composition, which gives evidence of lofty idealism, artistic perfection and a rare combination of the qualities of both heart and intellect', 'se': 'såsom ett erkännande av hans utmärkta, jämväl under senare år ådagalagda förtjänster som författare och särskilt av hans om hög idealitet, konstnärlig fulländning samt sällspord förening av hjärtats och snillets egenskaper vittnande diktning'}, 'links': [{'rel': 'laureate', 'href': 'https://api.nobelprize.org/2/laureate/569', 'action': 'GET', 'types': 'application/json'}]}]}]\n"
     ]
    }
   ],
   "source": [
    "import requests\n",
    "import json\n",
    "import pandas as pd\n",
    "\n",
    "# Define the URL for the Nobel Prize API\n",
    "url = \"http://api.nobelprize.org/2.1/nobelPrizes?limit=100000\"\n",
    "\n",
    "# Make the GET request to the API\n",
    "response = requests.get(url)\n",
    "\n",
    "# Check if the response was successful\n",
    "if response.status_code == 200:\n",
    "    print(\"All good!\")\n",
    "    print(\"==============\")\n",
    "    print(\"\\n\")\n",
    "    \n",
    "    # Proceed to process the data (for demonstration, we'll just show part of the JSON data)\n",
    "    data = response.json()\n",
    "    # Display the first few entries to understand the structure\n",
    "    sample_data = data['nobelPrizes'][:2]  # Display the first 2 entries\n",
    "    print(sample_data)\n",
    "else:\n",
    "    print(\"Failed to retrieve data. Status code:\", response.status_code)\n"
   ]
  },
  {
   "cell_type": "markdown",
   "id": "MUdAwBLFghOt",
   "metadata": {
    "id": "MUdAwBLFghOt"
   },
   "source": [
    "# Processing the output"
   ]
  },
  {
   "cell_type": "markdown",
   "id": "WnvYDOQ_gj3L",
   "metadata": {
    "id": "WnvYDOQ_gj3L"
   },
   "source": [
    "Process the Pandas DataFrame in order to have only the following columns:\n",
    "\n",
    "- category\n",
    "- dateAwarded (as DateTime in \"yyyy-mm-dd\" format)\n",
    "- prizeAmount\n",
    "- prizeAmountAdjusted\n",
    "- Number_of_laureates\n",
    "- motivation\n",
    "- laureate_ids (as a list)"
   ]
  },
  {
   "cell_type": "code",
   "execution_count": 6,
   "id": "94676ee6",
   "metadata": {
    "colab": {
     "base_uri": "https://localhost:8080/",
     "height": 293
    },
    "id": "94676ee6",
    "outputId": "6969dac6-4097-40a2-da2d-5a1e1b5e33f2"
   },
   "outputs": [
    {
     "name": "stdout",
     "output_type": "stream",
     "text": [
      "Number of Nobel Prizes fetched: 670\n"
     ]
    }
   ],
   "source": [
    "url = \"http://api.nobelprize.org/2.1/nobelPrizes?limit=100000\"\n",
    "\n",
    "response = requests.get(url)\n",
    "\n",
    "if response.status_code == 200:\n",
    "    prizes_list = response.json()['nobelPrizes']\n",
    "    prizes_list = response.json()['nobelPrizes']\n",
    "    print(f\"Number of Nobel Prizes fetched: {len(prizes_list)}\")\n"
   ]
  },
  {
   "cell_type": "code",
   "execution_count": 12,
   "id": "c876624b-1eae-4ebd-a493-1e1ca14ed6ec",
   "metadata": {},
   "outputs": [
    {
     "name": "stdout",
     "output_type": "stream",
     "text": [
      "Prize 1: {'awardYear': '1901', 'category': {'en': 'Chemistry', 'no': 'Kjemi', 'se': 'Kemi'}, 'categoryFullName': {'en': 'The Nobel Prize in Chemistry', 'no': 'Nobelprisen i kjemi', 'se': 'Nobelpriset i kemi'}, 'dateAwarded': '1901-11-12', 'prizeAmount': 150782, 'prizeAmountAdjusted': 10531894, 'links': [{'rel': 'nobelPrize', 'href': 'https://api.nobelprize.org/2/nobelPrize/che/1901', 'action': 'GET', 'types': 'application/json'}], 'laureates': [{'id': '160', 'knownName': {'en': \"Jacobus H. van 't Hoff\"}, 'fullName': {'en': \"Jacobus Henricus van 't Hoff\"}, 'portion': '1', 'sortOrder': '1', 'motivation': {'en': 'in recognition of the extraordinary services he has rendered by the discovery of the laws of chemical dynamics and osmotic pressure in solutions', 'se': 'såsom ett erkännande av den utomordentliga förtjänst han inlagt genom upptäckten av lagarna för den kemiska dynamiken och för det osmotiska trycket i lösningar'}, 'links': [{'rel': 'laureate', 'href': 'https://api.nobelprize.org/2/laureate/160', 'action': 'GET', 'types': 'application/json'}]}]}\n",
      "Prize 2: {'awardYear': '1901', 'category': {'en': 'Literature', 'no': 'Litteratur', 'se': 'Litteratur'}, 'categoryFullName': {'en': 'The Nobel Prize in Literature', 'no': 'Nobelprisen i litteratur', 'se': 'Nobelpriset i litteratur'}, 'dateAwarded': '1901-11-14', 'prizeAmount': 150782, 'prizeAmountAdjusted': 10531894, 'links': [{'rel': 'nobelPrize', 'href': 'https://api.nobelprize.org/2/nobelPrize/lit/1901', 'action': 'GET', 'types': 'application/json'}], 'laureates': [{'id': '569', 'knownName': {'en': 'Sully Prudhomme'}, 'fullName': {'en': 'Sully Prudhomme'}, 'portion': '1', 'sortOrder': '1', 'motivation': {'en': 'in special recognition of his poetic composition, which gives evidence of lofty idealism, artistic perfection and a rare combination of the qualities of both heart and intellect', 'se': 'såsom ett erkännande av hans utmärkta, jämväl under senare år ådagalagda förtjänster som författare och särskilt av hans om hög idealitet, konstnärlig fulländning samt sällspord förening av hjärtats och snillets egenskaper vittnande diktning'}, 'links': [{'rel': 'laureate', 'href': 'https://api.nobelprize.org/2/laureate/569', 'action': 'GET', 'types': 'application/json'}]}]}\n",
      "Prize 3: {'awardYear': '1901', 'category': {'en': 'Peace', 'no': 'Fred', 'se': 'Fred'}, 'categoryFullName': {'en': 'The Nobel Peace Prize', 'no': 'Nobels fredspris', 'se': 'Nobels fredspris'}, 'dateAwarded': '1901-12-10', 'prizeAmount': 150782, 'prizeAmountAdjusted': 10531894, 'links': [{'rel': 'nobelPrize', 'href': 'https://api.nobelprize.org/2/nobelPrize/pea/1901', 'action': 'GET', 'types': 'application/json'}], 'laureates': [{'id': '462', 'knownName': {'en': 'Henry Dunant'}, 'fullName': {'en': 'Jean Henry Dunant'}, 'portion': '1/2', 'sortOrder': '1', 'motivation': {'en': 'for his humanitarian efforts to help wounded soldiers and create international understanding', 'no': 'for sin humanitære innsats for å hjelpe sårede soldater og skape internasjonal forståelse'}, 'links': [{'rel': 'laureate', 'href': 'https://api.nobelprize.org/2/laureate/462', 'action': 'GET', 'types': 'application/json'}]}, {'id': '463', 'knownName': {'en': 'Frédéric Passy'}, 'fullName': {'en': 'Frédéric Passy'}, 'portion': '1/2', 'sortOrder': '2', 'motivation': {'en': 'for his lifelong work for international peace conferences, diplomacy and arbitration', 'no': 'for sin  livslange innsats for internasjonale fredskonferanser, diplomati og voldgift'}, 'links': [{'rel': 'laureate', 'href': 'https://api.nobelprize.org/2/laureate/463', 'action': 'GET', 'types': 'application/json'}]}]}\n"
     ]
    }
   ],
   "source": [
    "    for i, prize in enumerate(prizes_list[:3]): \n",
    "        print(f\"Prize {i+1}: {prize}\")"
   ]
  },
  {
   "cell_type": "code",
   "execution_count": 14,
   "id": "6866b51c-8ad7-42f8-b45d-2a12aaf42841",
   "metadata": {},
   "outputs": [
    {
     "name": "stdout",
     "output_type": "stream",
     "text": [
      "Request was successful!\n",
      "Number of Nobel Prizes fetched: 670\n",
      "Prize 1: {'awardYear': '1901', 'category': {'en': 'Chemistry', 'no': 'Kjemi', 'se': 'Kemi'}, 'categoryFullName': {'en': 'The Nobel Prize in Chemistry', 'no': 'Nobelprisen i kjemi', 'se': 'Nobelpriset i kemi'}, 'dateAwarded': '1901-11-12', 'prizeAmount': 150782, 'prizeAmountAdjusted': 10531894, 'links': [{'rel': 'nobelPrize', 'href': 'https://api.nobelprize.org/2/nobelPrize/che/1901', 'action': 'GET', 'types': 'application/json'}], 'laureates': [{'id': '160', 'knownName': {'en': \"Jacobus H. van 't Hoff\"}, 'fullName': {'en': \"Jacobus Henricus van 't Hoff\"}, 'portion': '1', 'sortOrder': '1', 'motivation': {'en': 'in recognition of the extraordinary services he has rendered by the discovery of the laws of chemical dynamics and osmotic pressure in solutions', 'se': 'såsom ett erkännande av den utomordentliga förtjänst han inlagt genom upptäckten av lagarna för den kemiska dynamiken och för det osmotiska trycket i lösningar'}, 'links': [{'rel': 'laureate', 'href': 'https://api.nobelprize.org/2/laureate/160', 'action': 'GET', 'types': 'application/json'}]}]}\n",
      "Prize 2: {'awardYear': '1901', 'category': {'en': 'Literature', 'no': 'Litteratur', 'se': 'Litteratur'}, 'categoryFullName': {'en': 'The Nobel Prize in Literature', 'no': 'Nobelprisen i litteratur', 'se': 'Nobelpriset i litteratur'}, 'dateAwarded': '1901-11-14', 'prizeAmount': 150782, 'prizeAmountAdjusted': 10531894, 'links': [{'rel': 'nobelPrize', 'href': 'https://api.nobelprize.org/2/nobelPrize/lit/1901', 'action': 'GET', 'types': 'application/json'}], 'laureates': [{'id': '569', 'knownName': {'en': 'Sully Prudhomme'}, 'fullName': {'en': 'Sully Prudhomme'}, 'portion': '1', 'sortOrder': '1', 'motivation': {'en': 'in special recognition of his poetic composition, which gives evidence of lofty idealism, artistic perfection and a rare combination of the qualities of both heart and intellect', 'se': 'såsom ett erkännande av hans utmärkta, jämväl under senare år ådagalagda förtjänster som författare och särskilt av hans om hög idealitet, konstnärlig fulländning samt sällspord förening av hjärtats och snillets egenskaper vittnande diktning'}, 'links': [{'rel': 'laureate', 'href': 'https://api.nobelprize.org/2/laureate/569', 'action': 'GET', 'types': 'application/json'}]}]}\n",
      "Prize 3: {'awardYear': '1901', 'category': {'en': 'Peace', 'no': 'Fred', 'se': 'Fred'}, 'categoryFullName': {'en': 'The Nobel Peace Prize', 'no': 'Nobels fredspris', 'se': 'Nobels fredspris'}, 'dateAwarded': '1901-12-10', 'prizeAmount': 150782, 'prizeAmountAdjusted': 10531894, 'links': [{'rel': 'nobelPrize', 'href': 'https://api.nobelprize.org/2/nobelPrize/pea/1901', 'action': 'GET', 'types': 'application/json'}], 'laureates': [{'id': '462', 'knownName': {'en': 'Henry Dunant'}, 'fullName': {'en': 'Jean Henry Dunant'}, 'portion': '1/2', 'sortOrder': '1', 'motivation': {'en': 'for his humanitarian efforts to help wounded soldiers and create international understanding', 'no': 'for sin humanitære innsats for å hjelpe sårede soldater og skape internasjonal forståelse'}, 'links': [{'rel': 'laureate', 'href': 'https://api.nobelprize.org/2/laureate/462', 'action': 'GET', 'types': 'application/json'}]}, {'id': '463', 'knownName': {'en': 'Frédéric Passy'}, 'fullName': {'en': 'Frédéric Passy'}, 'portion': '1/2', 'sortOrder': '2', 'motivation': {'en': 'for his lifelong work for international peace conferences, diplomacy and arbitration', 'no': 'for sin  livslange innsats for internasjonale fredskonferanser, diplomati og voldgift'}, 'links': [{'rel': 'laureate', 'href': 'https://api.nobelprize.org/2/laureate/463', 'action': 'GET', 'types': 'application/json'}]}]}\n"
     ]
    }
   ],
   "source": [
    "import requests\n",
    "\n",
    "url = \"http://api.nobelprize.org/2.1/nobelPrizes?limit=100000\"\n",
    "response = requests.get(url)\n",
    "\n",
    "if response.status_code == 200:\n",
    "    print(\"Request was successful!\")\n",
    "    \n",
    "    prizes_list = response.json()['nobelPrizes']\n",
    "    print(f\"Number of Nobel Prizes fetched: {len(prizes_list)}\")\n",
    "    \n",
    "    for i, prize in enumerate(prizes_list[:3]):  # Display the first 3 prizes\n",
    "        print(f\"Prize {i+1}: {prize}\")\n",
    "else:\n",
    "    print(f\"Failed to retrieve data. Status code: {response.status_code}\")\n"
   ]
  },
  {
   "cell_type": "code",
   "execution_count": 18,
   "id": "8ca69db9-d47c-4d23-a533-9381e48b6cfe",
   "metadata": {},
   "outputs": [
    {
     "name": "stdout",
     "output_type": "stream",
     "text": [
      "Request was successful!\n",
      "Number of Nobel Prizes fetched: 670\n",
      "\n",
      "Prize 1:\n",
      "{\n",
      "    \"awardYear\": \"1901\",\n",
      "    \"category\": {\n",
      "        \"en\": \"Chemistry\",\n",
      "        \"no\": \"Kjemi\",\n",
      "        \"se\": \"Kemi\"\n",
      "    },\n",
      "    \"categoryFullName\": {\n",
      "        \"en\": \"The Nobel Prize in Chemistry\",\n",
      "        \"no\": \"Nobelprisen i kjemi\",\n",
      "        \"se\": \"Nobelpriset i kemi\"\n",
      "    },\n",
      "    \"dateAwarded\": \"1901-11-12\",\n",
      "    \"prizeAmount\": 150782,\n",
      "    \"prizeAmountAdjusted\": 10531894,\n",
      "    \"links\": [\n",
      "        {\n",
      "            \"rel\": \"nobelPrize\",\n",
      "            \"href\": \"https://api.nobelprize.org/2/nobelPrize/che/1901\",\n",
      "            \"action\": \"GET\",\n",
      "            \"types\": \"application/json\"\n",
      "        }\n",
      "    ],\n",
      "    \"laureates\": [\n",
      "        {\n",
      "            \"id\": \"160\",\n",
      "            \"knownName\": {\n",
      "                \"en\": \"Jacobus H. van 't Hoff\"\n",
      "            },\n",
      "            \"fullName\": {\n",
      "                \"en\": \"Jacobus Henricus van 't Hoff\"\n",
      "            },\n",
      "            \"portion\": \"1\",\n",
      "            \"sortOrder\": \"1\",\n",
      "            \"motivation\": {\n",
      "                \"en\": \"in recognition of the extraordinary services he has rendered by the discovery of the laws of chemical dynamics and osmotic pressure in solutions\",\n",
      "                \"se\": \"s\\u00e5som ett erk\\u00e4nnande av den utomordentliga f\\u00f6rtj\\u00e4nst han inlagt genom uppt\\u00e4ckten av lagarna f\\u00f6r den kemiska dynamiken och f\\u00f6r det osmotiska trycket i l\\u00f6sningar\"\n",
      "            },\n",
      "            \"links\": [\n",
      "                {\n",
      "                    \"rel\": \"laureate\",\n",
      "                    \"href\": \"https://api.nobelprize.org/2/laureate/160\",\n",
      "                    \"action\": \"GET\",\n",
      "                    \"types\": \"application/json\"\n",
      "                }\n",
      "            ]\n",
      "        }\n",
      "    ]\n",
      "}\n",
      "\n",
      "Prize 2:\n",
      "{\n",
      "    \"awardYear\": \"1901\",\n",
      "    \"category\": {\n",
      "        \"en\": \"Literature\",\n",
      "        \"no\": \"Litteratur\",\n",
      "        \"se\": \"Litteratur\"\n",
      "    },\n",
      "    \"categoryFullName\": {\n",
      "        \"en\": \"The Nobel Prize in Literature\",\n",
      "        \"no\": \"Nobelprisen i litteratur\",\n",
      "        \"se\": \"Nobelpriset i litteratur\"\n",
      "    },\n",
      "    \"dateAwarded\": \"1901-11-14\",\n",
      "    \"prizeAmount\": 150782,\n",
      "    \"prizeAmountAdjusted\": 10531894,\n",
      "    \"links\": [\n",
      "        {\n",
      "            \"rel\": \"nobelPrize\",\n",
      "            \"href\": \"https://api.nobelprize.org/2/nobelPrize/lit/1901\",\n",
      "            \"action\": \"GET\",\n",
      "            \"types\": \"application/json\"\n",
      "        }\n",
      "    ],\n",
      "    \"laureates\": [\n",
      "        {\n",
      "            \"id\": \"569\",\n",
      "            \"knownName\": {\n",
      "                \"en\": \"Sully Prudhomme\"\n",
      "            },\n",
      "            \"fullName\": {\n",
      "                \"en\": \"Sully Prudhomme\"\n",
      "            },\n",
      "            \"portion\": \"1\",\n",
      "            \"sortOrder\": \"1\",\n",
      "            \"motivation\": {\n",
      "                \"en\": \"in special recognition of his poetic composition, which gives evidence of lofty idealism, artistic perfection and a rare combination of the qualities of both heart and intellect\",\n",
      "                \"se\": \"s\\u00e5som ett erk\\u00e4nnande av hans utm\\u00e4rkta, j\\u00e4mv\\u00e4l under senare \\u00e5r \\u00e5dagalagda f\\u00f6rtj\\u00e4nster som f\\u00f6rfattare och s\\u00e4rskilt av hans om h\\u00f6g idealitet, konstn\\u00e4rlig full\\u00e4ndning samt s\\u00e4llspord f\\u00f6rening av hj\\u00e4rtats och snillets egenskaper vittnande diktning\"\n",
      "            },\n",
      "            \"links\": [\n",
      "                {\n",
      "                    \"rel\": \"laureate\",\n",
      "                    \"href\": \"https://api.nobelprize.org/2/laureate/569\",\n",
      "                    \"action\": \"GET\",\n",
      "                    \"types\": \"application/json\"\n",
      "                }\n",
      "            ]\n",
      "        }\n",
      "    ]\n",
      "}\n",
      "\n",
      "Prize 3:\n",
      "{\n",
      "    \"awardYear\": \"1901\",\n",
      "    \"category\": {\n",
      "        \"en\": \"Peace\",\n",
      "        \"no\": \"Fred\",\n",
      "        \"se\": \"Fred\"\n",
      "    },\n",
      "    \"categoryFullName\": {\n",
      "        \"en\": \"The Nobel Peace Prize\",\n",
      "        \"no\": \"Nobels fredspris\",\n",
      "        \"se\": \"Nobels fredspris\"\n",
      "    },\n",
      "    \"dateAwarded\": \"1901-12-10\",\n",
      "    \"prizeAmount\": 150782,\n",
      "    \"prizeAmountAdjusted\": 10531894,\n",
      "    \"links\": [\n",
      "        {\n",
      "            \"rel\": \"nobelPrize\",\n",
      "            \"href\": \"https://api.nobelprize.org/2/nobelPrize/pea/1901\",\n",
      "            \"action\": \"GET\",\n",
      "            \"types\": \"application/json\"\n",
      "        }\n",
      "    ],\n",
      "    \"laureates\": [\n",
      "        {\n",
      "            \"id\": \"462\",\n",
      "            \"knownName\": {\n",
      "                \"en\": \"Henry Dunant\"\n",
      "            },\n",
      "            \"fullName\": {\n",
      "                \"en\": \"Jean Henry Dunant\"\n",
      "            },\n",
      "            \"portion\": \"1/2\",\n",
      "            \"sortOrder\": \"1\",\n",
      "            \"motivation\": {\n",
      "                \"en\": \"for his humanitarian efforts to help wounded soldiers and create international understanding\",\n",
      "                \"no\": \"for sin humanit\\u00e6re innsats for \\u00e5 hjelpe s\\u00e5rede soldater og skape internasjonal forst\\u00e5else\"\n",
      "            },\n",
      "            \"links\": [\n",
      "                {\n",
      "                    \"rel\": \"laureate\",\n",
      "                    \"href\": \"https://api.nobelprize.org/2/laureate/462\",\n",
      "                    \"action\": \"GET\",\n",
      "                    \"types\": \"application/json\"\n",
      "                }\n",
      "            ]\n",
      "        },\n",
      "        {\n",
      "            \"id\": \"463\",\n",
      "            \"knownName\": {\n",
      "                \"en\": \"Fr\\u00e9d\\u00e9ric Passy\"\n",
      "            },\n",
      "            \"fullName\": {\n",
      "                \"en\": \"Fr\\u00e9d\\u00e9ric Passy\"\n",
      "            },\n",
      "            \"portion\": \"1/2\",\n",
      "            \"sortOrder\": \"2\",\n",
      "            \"motivation\": {\n",
      "                \"en\": \"for his lifelong work for international peace conferences, diplomacy and arbitration\",\n",
      "                \"no\": \"for sin  livslange innsats for internasjonale fredskonferanser, diplomati og voldgift\"\n",
      "            },\n",
      "            \"links\": [\n",
      "                {\n",
      "                    \"rel\": \"laureate\",\n",
      "                    \"href\": \"https://api.nobelprize.org/2/laureate/463\",\n",
      "                    \"action\": \"GET\",\n",
      "                    \"types\": \"application/json\"\n",
      "                }\n",
      "            ]\n",
      "        }\n",
      "    ]\n",
      "}\n"
     ]
    }
   ],
   "source": [
    "import requests\n",
    "import json\n",
    "\n",
    "url = \"http://api.nobelprize.org/2.1/nobelPrizes?limit=100000\"\n",
    "response = requests.get(url)\n",
    "\n",
    "if response.status_code == 200:\n",
    "    print(\"Request was successful!\")\n",
    "    \n",
    "    prizes_list = response.json()['nobelPrizes']\n",
    "    print(f\"Number of Nobel Prizes fetched: {len(prizes_list)}\")\n",
    "    \n",
    "    for i, prize in enumerate(prizes_list[:3]):  \n",
    "        print(f\"\\nPrize {i+1}:\")\n",
    "        print(json.dumps(prize, indent=4))  \n",
    "else:\n",
    "    print(f\"Failed to retrieve data. Status code: {response.status_code}\")\n"
   ]
  },
  {
   "cell_type": "markdown",
   "id": "hA6b__V6iAPe",
   "metadata": {
    "id": "hA6b__V6iAPe"
   },
   "source": [
    "# Getting a Pandas DataFrame with the details of awarded authors/institutions"
   ]
  },
  {
   "cell_type": "markdown",
   "id": "QmRs0Jf_iM7G",
   "metadata": {
    "id": "QmRs0Jf_iM7G"
   },
   "source": [
    "If you dive deeper and use the API to retrieve the details of some laureate_ids, you will notice that not allways the Nobel Prize was awarded to individuals. In some cases, the awards were given to institutions.\n",
    "\n",
    "Get the unique ids from the previous datasets and prepare the following functions:\n",
    "\n",
    "- get_name(laureate) ( it should return the english name 'fullName' of the individual or 'orgName' of the institution )\n",
    "\n",
    "- get_gender(laureate) ( it should return the gender or 'Unknown' for individuals, and 'None' for institutions )\n",
    "\n",
    "- get_birthdate(laureate) ( it should return the birthdate when it's avaialble or 'Unknown' otherwise )\n",
    "\n",
    "- get_age(laureate) ( it should return the age of the awarded individual or 'Unknown' when it's not avaialble or for institutions )\n",
    "\n",
    "- get_city(laureate) ( it should return the english name of the city when it's available or 'Unknown' otherwise )\n",
    "\n",
    "- get_country(laureate) ( it should return the english name of the country when it's available or 'Unknown' otherwise )\n",
    "\n",
    "- get_continent(laureate) ( it should return the english name of the continent when it's available or 'Unknown' otherwise )\n",
    "\n",
    "- get_latitude(laureate) ( it should return the city's latitude when it's available or 'Unknown' otherwise )\n",
    "\n",
    "- get_longitude(laureate) ( it should return the city's longitude\n",
    " when it's available or 'Unknown' otherwise )\n",
    "\n",
    "Create the following dictionaries:\n",
    "\n",
    "```python\n",
    "laureates_dict = {\"ID\": [], \"Name\": [], \"Gender\": [], \\\n",
    "                  \"Birth_date\": [], \"Age\": [], \\\n",
    "                  \"City\": [], \"Country\": [], \"Continent\": [], \\\n",
    "                  \"Latitude\": [], \"Longitude\": []}                        \n",
    "\n",
    "functions_dict = {\"ID\": None, \"Name\": get_name, \"Gender\": get_gender, \\\n",
    "                  \"Birth_date\": get_birthdate, \"Age\": get_age, \\\n",
    "                  \"City\": get_city, \"Country\": get_country, \"Continent\": get_continent, \\\n",
    "                  \"Latitude\": get_latitude, \"Longitude\": get_longitude}\n",
    "```\n",
    "\n",
    "For each unique `laureate_id` of the previous DataFrame make an API call to get the details of the awarded individual/intitution and iterate of the previous dictionaries keys in order to add the corresponding information of each `laureate_id` in the empty lists of `laureates_dict`.\n",
    "\n",
    "Finally, create a Pandas DataFrame named `laureates_df` using the `laureates_dict`."
   ]
  },
  {
   "cell_type": "code",
   "execution_count": 26,
   "id": "faa99071",
   "metadata": {
    "colab": {
     "base_uri": "https://localhost:8080/",
     "height": 441
    },
    "id": "faa99071",
    "outputId": "29d7a8de-f250-459a-e6b7-8fdaf821118f"
   },
   "outputs": [],
   "source": [
    "from datetime import datetime\n",
    "\n",
    "def get_name(laureate):\n",
    "    if 'fullName' in laureate:\n",
    "        return laureate['fullName']['en']\n",
    "    elif 'orgName' in laureate:\n",
    "        return laureate['orgName']['en']\n",
    "    return \"Unknown\"\n",
    "\n",
    "def get_gender(laureate):\n",
    "    if 'gender' in laureate:\n",
    "        return laureate['gender']\n",
    "    elif 'orgName' in laureate:\n",
    "        return \"None\"\n",
    "    return \"Unknown\"\n",
    "\n",
    "def get_birthdate(laureate):\n",
    "    if 'birth' in laureate and 'date' in laureate['birth']:\n",
    "        return laureate['birth']['date']\n",
    "    return \"Unknown\"\n",
    "\n",
    "def get_age(laureate):\n",
    "    birth_date = get_birthdate(laureate)\n",
    "    if birth_date != \"Unknown\":\n",
    "        birth_date = datetime.strptime(birth_date, \"%Y-%m-%d\")\n",
    "        award_year = int(laureate['nobelPrizes'][0]['awardYear'])\n",
    "        award_date = datetime(award_year, 12, 31)  # Assuming award date is at the end of the year\n",
    "        age = award_date.year - birth_date.year - ((award_date.month, award_date.day) < (birth_date.month, birth_date.day))\n",
    "        return age\n",
    "    return \"Unknown\"\n",
    "\n",
    "def get_city(laureate):\n",
    "    if 'birth' in laureate and 'place' in laureate['birth'] and 'city' in laureate['birth']['place']:\n",
    "        return laureate['birth']['place']['city']['en']\n",
    "    return \"Unknown\"\n",
    "\n",
    "def get_country(laureate):\n",
    "    if 'birth' in laureate and 'place' in laureate['birth'] and 'country' in laureate['birth']['place']:\n",
    "        return laureate['birth']['place']['country']['en']\n",
    "    return \"Unknown\"\n",
    "\n",
    "def get_continent(laureate):\n",
    "    if 'birth' in laureate and 'place' in laureate['birth'] and 'continent' in laureate['birth']['place']:\n",
    "        return laureate['birth']['place']['continent']['en']\n",
    "    return \"Unknown\"\n",
    "\n",
    "def get_latitude(laureate):\n",
    "    if 'birth' in laureate and 'place' in laureate['birth'] and 'city' in laureate['birth']['place'] and 'latitude' in laureate['birth']['place']['city']:\n",
    "        return laureate['birth']['place']['city']['latitude']\n",
    "    return \"Unknown\"\n",
    "\n",
    "def get_longitude(laureate):\n",
    "    if 'birth' in laureate and 'place' in laureate['birth'] and 'city' in laureate['birth']['place'] and 'longitude' in laureate['birth']['place']['city']:\n",
    "        return laureate['birth']['place']['city']['longitude']\n",
    "    return \"Unknown\"\n"
   ]
  },
  {
   "cell_type": "code",
   "execution_count": 30,
   "id": "08b9149a-5673-496e-b015-1c3b21420ba6",
   "metadata": {},
   "outputs": [],
   "source": [
    "laureates_dict = {\"ID\": [], \"Name\": [], \"Gender\": [], \\\n",
    "                  \"Birth_date\": [], \"Age\": [], \\\n",
    "                  \"City\": [], \"Country\": [], \"Continent\": [], \\\n",
    "                  \"Latitude\": [], \"Longitude\": []}\n",
    "\n",
    "functions_dict = {\"ID\": None, \"Name\": get_name, \"Gender\": get_gender, \\\n",
    "                  \"Birth_date\": get_birthdate, \"Age\": get_age, \\\n",
    "                  \"City\": get_city, \"Country\": get_country, \"Continent\": get_continent, \\\n",
    "                  \"Latitude\": get_latitude, \"Longitude\": get_longitude}\n"
   ]
  },
  {
   "cell_type": "code",
   "execution_count": 34,
   "id": "d95c50bf-c65f-4b09-931e-f271d2f7d885",
   "metadata": {},
   "outputs": [
    {
     "name": "stderr",
     "output_type": "stream",
     "text": [
      "100%|█████████████████████████████████████████████| 3/3 [00:02<00:00,  1.31it/s]"
     ]
    },
    {
     "name": "stdout",
     "output_type": "stream",
     "text": [
      "   ID     Name   Gender Birth_date      Age     City  Country Continent  \\\n",
      "0   1  Unknown  Unknown    Unknown  Unknown  Unknown  Unknown   Unknown   \n",
      "1   2  Unknown  Unknown    Unknown  Unknown  Unknown  Unknown   Unknown   \n",
      "2   3  Unknown  Unknown    Unknown  Unknown  Unknown  Unknown   Unknown   \n",
      "\n",
      "  Latitude Longitude  \n",
      "0  Unknown   Unknown  \n",
      "1  Unknown   Unknown  \n",
      "2  Unknown   Unknown  \n"
     ]
    },
    {
     "name": "stderr",
     "output_type": "stream",
     "text": [
      "\n"
     ]
    }
   ],
   "source": [
    "import time\n",
    "from tqdm import tqdm\n",
    "import requests\n",
    "import pandas as pd\n",
    "\n",
    "unique_ids = [1, 2, 3]  \n",
    "\n",
    "for index, id in enumerate(tqdm(unique_ids)):\n",
    "    url = f\"https://api.nobelprize.org/2/laureate/{id}\"\n",
    "    response = requests.get(url)\n",
    "\n",
    "    if response.status_code == 200:\n",
    "        laureate = response.json()\n",
    "\n",
    "        laureates_dict[\"ID\"].append(id)\n",
    "        for key in functions_dict.keys():\n",
    "            if key != \"ID\":\n",
    "                function = functions_dict[key]\n",
    "                laureates_dict[key].append(function(laureate))\n",
    "    else:\n",
    "        print(f\"Failed to retrieve data for ID {id}\")\n",
    "\n",
    "laureates_df = pd.DataFrame(laureates_dict)\n",
    "\n",
    "# Display the DataFrame\n",
    "print(laureates_df.head())\n"
   ]
  },
  {
   "cell_type": "code",
   "execution_count": 32,
   "id": "d5d92e65-5864-4603-b3c4-bb5a38315b95",
   "metadata": {},
   "outputs": [],
   "source": [
    "from datetime import datetime\n",
    "\n",
    "def get_name(laureate):\n",
    "    # Check if it's a person\n",
    "    if 'fullName' in laureate:\n",
    "        return laureate['fullName']['en']\n",
    "    # Check if it's an organization\n",
    "    elif 'orgName' in laureate:\n",
    "        return laureate['orgName']['en']\n",
    "    else:\n",
    "        return \"Unknown\"\n",
    "\n",
    "def get_gender(laureate):\n",
    "    # Return the gender if it's a person\n",
    "    if 'gender' in laureate:\n",
    "        return laureate['gender']\n",
    "    # Return 'None' if it's an organization\n",
    "    elif 'orgName' in laureate:\n",
    "        return \"None\"\n",
    "    else:\n",
    "        return \"Unknown\"\n",
    "\n",
    "def get_birthdate(laureate):\n",
    "    # Return the birthdate if it's a person\n",
    "    if 'birth' in laureate and 'date' in laureate['birth']:\n",
    "        return laureate['birth']['date']\n",
    "    else:\n",
    "        return \"Unknown\"\n",
    "\n",
    "def get_age(laureate):\n",
    "    # Calculate age if birthdate is available\n",
    "    birth_date = get_birthdate(laureate)\n",
    "    if birth_date != \"Unknown\":\n",
    "        birth_date = datetime.strptime(birth_date, \"%Y-%m-%d\")\n",
    "        award_year = int(laureate['nobelPrizes'][0]['awardYear'])\n",
    "        award_date = datetime(award_year, 12, 31)  # Assuming award date is at the end of the year\n",
    "        age = award_date.year - birth_date.year - ((award_date.month, award_date.day) < (birth_date.month, birth_date.day))\n",
    "        return age\n",
    "    else:\n",
    "        return \"Unknown\"\n",
    "\n",
    "def get_city(laureate):\n",
    "    if 'birth' in laureate and 'place' in laureate['birth'] and 'city' in laureate['birth']['place']:\n",
    "        return laureate['birth']['place']['city']['en']\n",
    "    else:\n",
    "        return \"Unknown\"\n",
    "\n",
    "def get_country(laureate):\n",
    "    if 'birth' in laureate and 'place' in laureate['birth'] and 'country' in laureate['birth']['place']:\n",
    "        return laureate['birth']['place']['country']['en']\n",
    "    else:\n",
    "        return \"Unknown\"\n",
    "\n",
    "def get_continent(laureate):\n",
    "    if 'birth' in laureate and 'place' in laureate['birth'] and 'continent' in laureate['birth']['place']:\n",
    "        return laureate['birth']['place']['continent']['en']\n",
    "    else:\n",
    "        return \"Unknown\"\n",
    "\n",
    "def get_latitude(laureate):\n",
    "    if 'birth' in laureate and 'place' in laureate['birth'] and 'city' in laureate['birth']['place'] and 'latitude' in laureate['birth']['place']['city']:\n",
    "        return laureate['birth']['place']['city']['latitude']\n",
    "    else:\n",
    "        return \"Unknown\"\n",
    "\n",
    "def get_longitude(laureate):\n",
    "    if 'birth' in laureate and 'place' in laureate['birth'] and 'city' in laureate['birth']['place'] and 'longitude' in laureate['birth']['place']['city']:\n",
    "        return laureate['birth']['place']['city']['longitude']\n",
    "    else:\n",
    "        return \"Unknown\"\n"
   ]
  },
  {
   "cell_type": "markdown",
   "id": "9EQ5bO0YpWjn",
   "metadata": {
    "id": "9EQ5bO0YpWjn"
   },
   "source": [
    "# Country ranking"
   ]
  },
  {
   "cell_type": "markdown",
   "id": "uCUEl_0gppZp",
   "metadata": {
    "id": "uCUEl_0gppZp"
   },
   "source": [
    "Get a ranking countries by the number of times that they had been awarded in any category."
   ]
  },
  {
   "cell_type": "code",
   "execution_count": 38,
   "id": "t_ZLS_y44HrO",
   "metadata": {
    "colab": {
     "base_uri": "https://localhost:8080/",
     "height": 455
    },
    "id": "t_ZLS_y44HrO",
    "outputId": "eca0f70b-45fa-47ac-e3e9-1de74a90da6e"
   },
   "outputs": [
    {
     "name": "stdout",
     "output_type": "stream",
     "text": [
      "   Country  Number of Awards\n",
      "0  Unknown                 3\n"
     ]
    }
   ],
   "source": [
    "if 'Country' not in laureates_df.columns:\n",
    "    print(\"The 'Country' column is missing in the DataFrame.\")\n",
    "else:\n",
    "    country_counts = laureates_df['Country'].value_counts().reset_index()\n",
    "    \n",
    "    country_counts.columns = ['Country', 'Number of Awards']\n",
    "    \n",
    "    country_counts = country_counts.sort_values(by='Number of Awards', ascending=False).reset_index(drop=True)\n",
    "    \n",
    "    print(country_counts)\n"
   ]
  },
  {
   "cell_type": "code",
   "execution_count": null,
   "id": "e37a57df-c5a8-49b3-b744-21f6707360f6",
   "metadata": {},
   "outputs": [],
   "source": []
  }
 ],
 "metadata": {
  "colab": {
   "provenance": []
  },
  "kernelspec": {
   "display_name": "Python 3 (ipykernel)",
   "language": "python",
   "name": "python3"
  },
  "language_info": {
   "codemirror_mode": {
    "name": "ipython",
    "version": 3
   },
   "file_extension": ".py",
   "mimetype": "text/x-python",
   "name": "python",
   "nbconvert_exporter": "python",
   "pygments_lexer": "ipython3",
   "version": "3.12.4"
  }
 },
 "nbformat": 4,
 "nbformat_minor": 5
}
